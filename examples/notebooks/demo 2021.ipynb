{
 "cells": [
  {
   "cell_type": "code",
   "execution_count": null,
   "metadata": {},
   "outputs": [],
   "source": [
    "# ! pip install git+https://github.com/catalyst-team/catalyst@dev --upgrade"
   ]
  },
  {
   "cell_type": "code",
   "execution_count": null,
   "metadata": {},
   "outputs": [],
   "source": [
    "# ! pip install scikit-learn>=0.20 optuna"
   ]
  },
  {
   "cell_type": "markdown",
   "metadata": {},
   "source": [
    "###  Kittylyst demo"
   ]
  },
  {
   "cell_type": "code",
   "execution_count": null,
   "metadata": {},
   "outputs": [],
   "source": [
    "import random\n",
    "import numpy as np\n",
    "import matplotlib.pyplot as plt\n",
    "from sklearn.datasets import make_moons, make_blobs\n",
    "%matplotlib inline"
   ]
  },
  {
   "cell_type": "code",
   "execution_count": null,
   "metadata": {},
   "outputs": [],
   "source": [
    "from typing import *\n",
    "\n",
    "import torch\n",
    "from torch import nn\n",
    "from torch import optim\n",
    "from torch.nn import functional as F\n",
    "from torch.utils.data import DataLoader, TensorDataset\n",
    "\n",
    "from catalyst import dl, metrics"
   ]
  },
  {
   "cell_type": "code",
   "execution_count": null,
   "metadata": {},
   "outputs": [],
   "source": [
    "# make up a dataset\n",
    "def make_dataset(seed=42, n_samples=100):\n",
    "    np.random.seed(seed)\n",
    "    random.seed(seed)\n",
    "    X, y = make_moons(n_samples=100, noise=0.1)\n",
    "\n",
    "    y = y*2 - 1 # make y be -1 or 1\n",
    "    return X, y\n",
    "\n",
    "def visualize_dataset(X, y):\n",
    "    plt.figure(figsize=(5,5))\n",
    "    plt.scatter(X[:,0], X[:,1], c=y, s=20, cmap='jet')\n",
    "\n",
    "# let's create train data\n",
    "X_train, y_train = make_dataset()\n",
    "visualize_dataset(X_train, y_train)"
   ]
  },
  {
   "cell_type": "code",
   "execution_count": null,
   "metadata": {},
   "outputs": [],
   "source": [
    "# valid data\n",
    "X_valid, y_valid = make_dataset(seed=137)\n",
    "visualize_dataset(X_valid, y_valid)"
   ]
  },
  {
   "cell_type": "code",
   "execution_count": null,
   "metadata": {},
   "outputs": [],
   "source": [
    "# and another train one (why not?)\n",
    "X_train2, y_train2 = make_dataset(seed=1337)\n",
    "visualize_dataset(X_train2, y_train2)"
   ]
  },
  {
   "cell_type": "code",
   "execution_count": null,
   "metadata": {},
   "outputs": [],
   "source": [
    "# initialize a model \n",
    "# 2-layer neural network\n",
    "model = nn.Sequential(\n",
    "    nn.Linear(2, 16), nn.ReLU(), \n",
    "    nn.Linear(16, 16), nn.ReLU(), \n",
    "    nn.Linear(16, 1)\n",
    ")\n",
    "print(model)\n",
    "# print(\"number of parameters\", len(model.parameters()))"
   ]
  },
  {
   "cell_type": "code",
   "execution_count": null,
   "metadata": {},
   "outputs": [],
   "source": [
    "def visualize_decision_boundary(X, y, model):\n",
    "    h = 0.25\n",
    "    x_min, x_max = X[:, 0].min() - 1, X[:, 0].max() + 1\n",
    "    y_min, y_max = X[:, 1].min() - 1, X[:, 1].max() + 1\n",
    "    xx, yy = np.meshgrid(np.arange(x_min, x_max, h),\n",
    "                         np.arange(y_min, y_max, h))\n",
    "    Xmesh = np.c_[xx.ravel(), yy.ravel()]\n",
    "    \n",
    "    inputs = torch.tensor([list(xrow) for xrow in Xmesh]).float()\n",
    "    scores = model(inputs)\n",
    "    \n",
    "    Z = np.array([s.data > 0 for s in scores])\n",
    "    Z = Z.reshape(xx.shape)\n",
    "\n",
    "    fig = plt.figure()\n",
    "    plt.contourf(xx, yy, Z, cmap=plt.cm.Spectral, alpha=0.8)\n",
    "    plt.scatter(X[:, 0], X[:, 1], c=y, s=40, cmap=plt.cm.Spectral)\n",
    "    plt.xlim(xx.min(), xx.max())\n",
    "    plt.ylim(yy.min(), yy.max())\n",
    "    plt.show()\n",
    "    return fig"
   ]
  },
  {
   "cell_type": "code",
   "execution_count": null,
   "metadata": {},
   "outputs": [],
   "source": [
    "_ = visualize_decision_boundary(X_valid, y_valid, model)"
   ]
  },
  {
   "cell_type": "code",
   "execution_count": null,
   "metadata": {
    "pycharm": {
     "name": "#%%\n"
    }
   },
   "outputs": [],
   "source": [
    "t1 = TensorDataset(torch.tensor(X_train).float(), torch.tensor(y_train > 0).float())\n",
    "t2 = TensorDataset(torch.tensor(X_train2).float(), torch.tensor(y_train2 > 0).float())\n",
    "v1 = TensorDataset(torch.tensor(X_valid).float(), torch.tensor(y_valid > 0).float())\n",
    "\n",
    "loaders = {\n",
    "    \"train_1\": DataLoader(t1, batch_size=32, num_workers=1), \n",
    "    \"train_2\": DataLoader(t2, batch_size=32, num_workers=1), \n",
    "    \"valid\": DataLoader(v1, batch_size=32, num_workers=1), \n",
    "}"
   ]
  },
  {
   "cell_type": "markdown",
   "metadata": {},
   "source": [
    "---"
   ]
  },
  {
   "cell_type": "markdown",
   "metadata": {
    "pycharm": {
     "name": "#%% md\n"
    }
   },
   "source": [
    "### Act 1 - ``CustomRunner`` solution\n",
    "\n",
    "Suppose you have your favorite `for-loop` pipeline and want to get rid of `for-for-for` stuff to make code more clean. In this case you can define your own ``CustomRunner`` with ``_handle_batch`` method and just run it.\n",
    "\n",
    "Whole ``Runner`` source code is located [here](github.com/Scitator/kittylyst/blob/master/kittylyst/runner.py) (~100 lines of code)."
   ]
  },
  {
   "cell_type": "code",
   "execution_count": null,
   "metadata": {
    "pycharm": {
     "name": "#%%\n"
    },
    "scrolled": false
   },
   "outputs": [],
   "source": [
    "# 2-layer neural network\n",
    "model = nn.Sequential(\n",
    "    nn.Linear(2, 16), nn.ReLU(), \n",
    "    nn.Linear(16, 16), nn.ReLU(), \n",
    "    nn.Linear(16, 1)\n",
    ")\n",
    "optimizer = torch.optim.Adam(model.parameters(), lr=0.02)\n",
    "experiment = dl.SingleStageExperiment(\n",
    "    model=model, \n",
    "    optimizer=optimizer, \n",
    "    loaders=loaders, \n",
    "    num_epochs=10\n",
    ")\n",
    "\n",
    "class CustomRunner(dl.IStageBasedRunner):\n",
    "    def handle_batch(self, batch):\n",
    "        x, y = batch\n",
    "        y_hat = self.model(x)\n",
    "\n",
    "        loss = F.binary_cross_entropy_with_logits(y_hat.view(-1), y)\n",
    "        self.batch_metrics = {\"loss\": loss}\n",
    "        print(\n",
    "            f\"{self.loader_key} ({self.loader_batch_step}/{self.loader_batch_len}:\" \n",
    "            f\"loss {loss.item()}\"\n",
    "        )\n",
    "\n",
    "        if self.is_train_loader:\n",
    "            loss.backward()\n",
    "            self.optimizer.step()\n",
    "            self.optimizer.zero_grad()\n",
    "\n",
    "CustomRunner().run(experiment)"
   ]
  },
  {
   "cell_type": "code",
   "execution_count": null,
   "metadata": {},
   "outputs": [],
   "source": [
    "_ = visualize_decision_boundary(X_valid, y_valid, model)"
   ]
  },
  {
   "cell_type": "markdown",
   "metadata": {},
   "source": [
    "---"
   ]
  },
  {
   "cell_type": "markdown",
   "metadata": {
    "pycharm": {
     "name": "#%% md\n"
    }
   },
   "source": [
    "### Act 2 - ``SupervisedRunner`` solution\n",
    "\n",
    "Let's make a bit more abstract. Let's introduce ``SupervisedRunner``, that knows how to execute Supervised models and ``CriterionCallback/OptimizerCallback/SchedulerCallback`` for typical criterions/optimizers/schedulers steps. \n",
    "\n",
    "Additionaly let's wrap accuracy with ``AccuracyCallback``, as far as metrics are general too. \n",
    "\n",
    "Finally, let's make our logs looks consistent with ``LoggerCallback``.\n",
    "\n",
    "Whole ``Callback`` source code is located [here](github.com/Scitator/kittylyst/blob/master/kittylyst/callback.py) (~100 lines of code)."
   ]
  },
  {
   "cell_type": "code",
   "execution_count": null,
   "metadata": {
    "pycharm": {
     "name": "#%%\n"
    },
    "scrolled": false
   },
   "outputs": [],
   "source": [
    "num_epochs=6\n",
    "model = nn.Sequential(\n",
    "    nn.Linear(2, 16), nn.ReLU(), \n",
    "    nn.Linear(16, 16), nn.ReLU(), \n",
    "    nn.Linear(16, 1)\n",
    ")\n",
    "criterion = nn.BCEWithLogitsLoss()\n",
    "optimizer = torch.optim.Adam(model.parameters(), lr=0.02)\n",
    "scheduler = torch.optim.lr_scheduler.MultiStepLR(optimizer, [3, 6])\n",
    "\n",
    "experiment = dl.SingleStageExperiment(\n",
    "    model=model, \n",
    "    criterion=criterion, \n",
    "    optimizer=optimizer, \n",
    "    scheduler=scheduler,\n",
    "    loaders=loaders, \n",
    "    num_epochs=num_epochs,\n",
    "    callbacks={\n",
    "        \"criterion\": dl.CriterionCallback(\n",
    "            metric_key=\"loss\", \n",
    "            outputs_key=\"logits\", \n",
    "            targets_key=\"targets\"\n",
    "        ), \n",
    "#         \"accuracy\": dl.MetricCallback(\n",
    "#             metric=metrics.AccuracyMetric(), compute_on_batch=True,\n",
    "#             outputs_key=\"logits\", targets_key=\"targets\", \n",
    "#         ),\n",
    "        \"auc\": dl.MetricCallback(\n",
    "            metric=metrics.AUCMetric(), compute_on_batch=False,\n",
    "            outputs_key=\"scores\", targets_key=\"targets\", \n",
    "        ), \n",
    "        \"optimizer\": dl.OptimizerCallback(metric_key=\"loss\"), \n",
    "        \"scheduler\": dl.SchedulerCallback(\n",
    "            loader_key=\"valid\", metric_key=\"loss\"\n",
    "        ),\n",
    "        \"checkpoint1\": dl.CheckpointCallback(\n",
    "            loader_key=\"valid\", metric_key=\"auc\", \n",
    "            minimize=False, save_n_best=3\n",
    "        ),\n",
    "        \"checkpoint2\": dl.CheckpointCallback(\n",
    "            loader_key=\"valid\", metric_key=\"loss\", \n",
    "            minimize=True, save_n_best=1\n",
    "        ),\n",
    "        \"verbose\": dl.VerboseCallback(),\n",
    "    },\n",
    "    loggers={\n",
    "        \"console\": dl.ConsoleLogger(),\n",
    "        \"csv\": dl.LogdirLogger(logdir=\"./logdir\"),\n",
    "    }\n",
    ")\n",
    "\n",
    "class CustomRunner(dl.IStageBasedRunner):\n",
    "    def handle_batch(self, batch):\n",
    "        x, y = batch\n",
    "        y_hat = self.model(x)\n",
    "        \n",
    "        self.batch = {\n",
    "            \"features\": x,\n",
    "            \"targets\": y,\n",
    "            \"logits\": y_hat.view(-1),\n",
    "            \"scores\": torch.sigmoid(y_hat.view(-1)),\n",
    "        }\n",
    "\n",
    "CustomRunner().run(experiment)"
   ]
  },
  {
   "cell_type": "code",
   "execution_count": null,
   "metadata": {},
   "outputs": [],
   "source": [
    "_ = visualize_decision_boundary(X_valid, y_valid, model)"
   ]
  },
  {
   "cell_type": "markdown",
   "metadata": {
    "collapsed": true,
    "pycharm": {
     "name": "#%% md\n"
    }
   },
   "source": [
    "---"
   ]
  },
  {
   "cell_type": "markdown",
   "metadata": {},
   "source": [
    "### Act 3 - ``CustomExperiment`` solution - multi-stage experiment with ``VisualizationCallback``\n",
    "\n",
    "Let's go even harder. Suppose we want to firstly train our model on `train_1` data, and only after that - on `train_2`. This case could be easily handled with ``CustomExperiment``, where you could redefine your experiment components for each stage of your experiment.\n",
    "\n",
    "Whole ``Experiemnt`` source code is located [here](github.com/Scitator/kittylyst/blob/master/kittylyst/experiment.py) (~100 lines of code)."
   ]
  },
  {
   "cell_type": "code",
   "execution_count": null,
   "metadata": {},
   "outputs": [],
   "source": [
    "import io\n",
    "import cv2\n",
    "import numpy as np\n",
    "import matplotlib.pyplot as plt\n",
    "\n",
    "def get_img_from_fig(fig, dpi=180):\n",
    "    buf = io.BytesIO()\n",
    "    fig.savefig(buf, format=\"png\", dpi=dpi)\n",
    "    buf.seek(0)\n",
    "    \n",
    "    img_arr = np.frombuffer(buf.getvalue(), dtype=np.uint8)\n",
    "    buf.close()\n",
    "    img = cv2.imdecode(img_arr, 1)\n",
    "    img = cv2.cvtColor(img, cv2.COLOR_BGR2RGB)\n",
    "    return img"
   ]
  },
  {
   "cell_type": "code",
   "execution_count": null,
   "metadata": {
    "scrolled": false
   },
   "outputs": [],
   "source": [
    "class CustomExperiment(dl.SingleStageExperiment):\n",
    "    @property\n",
    "    def stages(self):\n",
    "        return self._stage\n",
    "\n",
    "    def get_loaders(self, stage: str):\n",
    "        return self._loaders[stage]\n",
    "\n",
    "    \n",
    "# class VisualizationCallback(ICallback):\n",
    "#     def on_epoch_end(self, runner):\n",
    "#         img = visualize_decision_boundary(X_valid, y_valid, runner.model)\n",
    "#         img = get_img_from_fig(img)\n",
    "#         runner.log_image(img, scope=\"epoch\")\n",
    "\n",
    "        \n",
    "loaders = {\n",
    "    \"stage_1\": {\n",
    "        \"train_1\": DataLoader(t1, batch_size=32, num_workers=1), \n",
    "        \"valid\": DataLoader(v1, batch_size=32, num_workers=1), \n",
    "    },\n",
    "    \"stage_2\": {\n",
    "        \"train_2\": DataLoader(t2, batch_size=32, num_workers=1), \n",
    "        \"valid\": DataLoader(v1, batch_size=32, num_workers=1), \n",
    "    },\n",
    "}\n",
    "stages = loaders.keys()\n",
    "num_epochs=10\n",
    "\n",
    "model = nn.Sequential(\n",
    "    nn.Linear(2, 16), nn.ReLU(), \n",
    "    nn.Linear(16, 16), nn.ReLU(), \n",
    "    nn.Linear(16, 1)\n",
    ")\n",
    "criterion = nn.BCEWithLogitsLoss()\n",
    "optimizer = torch.optim.Adam(model.parameters(), lr=0.02)\n",
    "scheduler = torch.optim.lr_scheduler.MultiStepLR(optimizer, [3, 6])\n",
    "\n",
    "experiment = CustomExperiment(\n",
    "    model=model, \n",
    "    criterion=criterion, \n",
    "    optimizer=optimizer, \n",
    "    scheduler=scheduler,\n",
    "    loaders=loaders, \n",
    "    num_epochs=num_epochs,\n",
    "    callbacks={\n",
    "        \"criterion\": dl.CriterionCallback(\n",
    "            metric_key=\"loss\", \n",
    "            outputs_key=\"logits\", \n",
    "            targets_key=\"targets\"\n",
    "        ), \n",
    "#         \"accuracy\": dl.MetricCallback(\n",
    "#             metric=metrics.AccuracyMetric(), compute_on_batch=True,\n",
    "#             outputs_key=\"logits\", targets_key=\"targets\", \n",
    "#         ),\n",
    "        \"auc\": dl.MetricCallback(\n",
    "            metric=metrics.AUCMetric(), compute_on_batch=False,\n",
    "            outputs_key=\"scores\", targets_key=\"targets\", \n",
    "        ), \n",
    "        \"optimizer\": dl.OptimizerCallback(metric_key=\"loss\"), \n",
    "        \"scheduler\": dl.SchedulerCallback(\n",
    "            loader_key=\"valid\", metric_key=\"loss\"\n",
    "        ),\n",
    "        \"checkpoint1\": dl.CheckpointCallback(\n",
    "            loader_key=\"valid\", metric_key=\"auc\", \n",
    "            minimize=False, save_n_best=3\n",
    "        ),\n",
    "        \"checkpoint2\": dl.CheckpointCallback(\n",
    "            loader_key=\"valid\", metric_key=\"loss\", \n",
    "            minimize=True, save_n_best=1\n",
    "        ),\n",
    "#         \"visualization\": VisualizationCallback(),\n",
    "#         \"verbose\": VerboseCallback(),\n",
    "        \n",
    "    },\n",
    "    loggers={\n",
    "#         \"console\": ConsoleLogger(exclude=[\"batch\", \"global_batch\", \"loader\", \"global_epoch\"]),\n",
    "        \"console\": dl.ConsoleLogger(),\n",
    "        \"csv\": dl.LogdirLogger(logdir=\"./logdir2\"),\n",
    "    },\n",
    "    stage=stages  # <-- here is the trick for multi-stage support\n",
    ")\n",
    "\n",
    "class CustomRunner(dl.IStageBasedRunner):\n",
    "    def handle_batch(self, batch):\n",
    "        x, y = batch\n",
    "        y_hat = self.model(x)\n",
    "        \n",
    "        self.batch = {\n",
    "            \"features\": x,\n",
    "            \"targets\": y,\n",
    "            \"logits\": y_hat.view(-1),\n",
    "            \"scores\": torch.sigmoid(y_hat.view(-1)),\n",
    "        }\n",
    "\n",
    "CustomRunner().run(experiment)"
   ]
  },
  {
   "cell_type": "code",
   "execution_count": null,
   "metadata": {
    "pycharm": {
     "name": "#%%\n"
    }
   },
   "outputs": [],
   "source": [
    "_ = visualize_decision_boundary(X_valid, y_valid, model)"
   ]
  },
  {
   "cell_type": "markdown",
   "metadata": {},
   "source": [
    "### Act 4 - integration with hyperparameter search"
   ]
  },
  {
   "cell_type": "code",
   "execution_count": null,
   "metadata": {
    "scrolled": false
   },
   "outputs": [],
   "source": [
    "from datetime import datetime\n",
    "import optuna    \n",
    "\n",
    "class CustomRunner(dl.IStageBasedRunner):\n",
    "    def handle_batch(self, batch):\n",
    "        x, y = batch\n",
    "        y_hat = self.model(x)\n",
    "        \n",
    "        self.batch = {\n",
    "            \"features\": x,\n",
    "            \"targets\": y,\n",
    "            \"logits\": y_hat.view(-1),\n",
    "            \"scores\": torch.sigmoid(y_hat.view(-1)),\n",
    "        }\n",
    "\n",
    "def objective(trial):\n",
    "    num_epochs = 6\n",
    "    num_hidden1 = int(trial.suggest_loguniform(\"num_hidden1\", 2, 16))\n",
    "    num_hidden2 = int(trial.suggest_loguniform(\"num_hidden2\", 2, 16))\n",
    "    \n",
    "    loaders = {\n",
    "        \"train_1\": DataLoader(t1, batch_size=32, num_workers=1), \n",
    "        \"train_2\": DataLoader(t2, batch_size=32, num_workers=1), \n",
    "        \"valid\": DataLoader(v1, batch_size=32, num_workers=1), \n",
    "    }\n",
    "\n",
    "    model = nn.Sequential(\n",
    "        nn.Linear(2, num_hidden1), nn.ReLU(), \n",
    "        nn.Linear(num_hidden1, num_hidden2), nn.ReLU(), \n",
    "        nn.Linear(num_hidden2, 1)\n",
    "    )\n",
    "    criterion = nn.BCEWithLogitsLoss()\n",
    "    optimizer = torch.optim.Adam(model.parameters(), lr=0.02)\n",
    "    scheduler = torch.optim.lr_scheduler.MultiStepLR(optimizer, [3, 6])\n",
    "\n",
    "    experiment = dl.SingleStageExperiment(\n",
    "        model=model, \n",
    "        criterion=criterion, \n",
    "        optimizer=optimizer, \n",
    "        scheduler=scheduler,\n",
    "        loaders=loaders, \n",
    "        num_epochs=num_epochs,\n",
    "        callbacks={\n",
    "            \"criterion\": dl.CriterionCallback(\n",
    "                metric_key=\"loss\", \n",
    "                outputs_key=\"logits\", \n",
    "                targets_key=\"targets\"\n",
    "            ), \n",
    "    #         \"accuracy\": dl.MetricCallback(\n",
    "    #             metric=metrics.AccuracyMetric(), compute_on_batch=True,\n",
    "    #             outputs_key=\"logits\", targets_key=\"targets\", \n",
    "    #         ),\n",
    "            \"auc\": dl.MetricCallback(\n",
    "                metric=metrics.AUCMetric(), compute_on_batch=False,\n",
    "                outputs_key=\"scores\", targets_key=\"targets\", \n",
    "            ), \n",
    "            \"optimizer\": dl.OptimizerCallback(metric_key=\"loss\"), \n",
    "            \"scheduler\": dl.SchedulerCallback(\n",
    "                loader_key=\"valid\", metric_key=\"loss\"\n",
    "            ),\n",
    "            \"checkpoint\": dl.CheckpointCallback(\n",
    "                loader_key=\"valid\", metric_key=\"auc\", \n",
    "                minimize=False, save_n_best=3\n",
    "            ),\n",
    "            \"optuna\": dl.OptunaPruningCallback(loader_key=\"valid\", metric_key=\"auc\")\n",
    "        },\n",
    "        loggers={\n",
    "            \"console\": dl.ConsoleLogger(),\n",
    "            \"csv\": dl.LogdirLogger(logdir=f\"./logdir/{datetime.now().strftime('%Y%m%d-%H%M%S')}\"),\n",
    "        },\n",
    "        trial=trial,\n",
    "#         hparams={\"l2_alpha\": l2_alpha, \"num_hidden1\": num_hidden1, \"num_hidden2\": num_hidden2},\n",
    "    )\n",
    "\n",
    "    runner = CustomRunner()\n",
    "    runner.run(experiment)\n",
    "    score = runner.callbacks[\"checkpoint\"].top_best_metrics[0][0]\n",
    "    \n",
    "    return score\n",
    "\n",
    "study = optuna.create_study(\n",
    "    direction=\"maximize\",\n",
    "#     direction=\"minimize\",\n",
    "    pruner=optuna.pruners.MedianPruner(\n",
    "        n_startup_trials=0, n_warmup_steps=0, interval_steps=1\n",
    "    ),\n",
    ")\n",
    "study.optimize(objective, n_trials=5, timeout=300)\n",
    "print(study.best_value, study.best_params)"
   ]
  },
  {
   "cell_type": "markdown",
   "metadata": {},
   "source": [
    "### Act 5 - fully custom experiment"
   ]
  },
  {
   "cell_type": "code",
   "execution_count": null,
   "metadata": {
    "scrolled": false
   },
   "outputs": [],
   "source": [
    "class CustomExperiment(dl.IExperiment):\n",
    "    @property\n",
    "    def seed(self) -> int:\n",
    "        return 73\n",
    "\n",
    "    @property\n",
    "    def name(self) -> str:\n",
    "        # @TODO: auto-generate name?\n",
    "        return \"experiment73\"\n",
    "\n",
    "    @property\n",
    "    def hparams(self) -> Dict:\n",
    "        return {}\n",
    "\n",
    "    @property\n",
    "    def stages(self) -> List[str]:\n",
    "        return [\"stage_1\", \"stage_2\"]\n",
    "\n",
    "    def get_stage_params(self, stage: str) -> Dict[str, Any]:\n",
    "        if stage == \"stage_1\":\n",
    "            return {\n",
    "                \"num_epochs\": 10,\n",
    "                \"migrate_model_from_previous_stage\": False,\n",
    "                \"migrate_callbacks_from_previous_stage\": False,\n",
    "            }\n",
    "        elif stage == \"stage_2\":\n",
    "            return {\n",
    "                \"num_epochs\": 6,\n",
    "                \"migrate_model_from_previous_stage\": True,\n",
    "                \"migrate_callbacks_from_previous_stage\": False,\n",
    "            }\n",
    "        else:\n",
    "            raise NotImplemented()\n",
    "\n",
    "    def get_loaders(self, stage: str) -> Dict[str, Any]:\n",
    "        if stage == \"stage_1\":\n",
    "            return {\n",
    "                \"train_1\": DataLoader(t1, batch_size=32, num_workers=1), \n",
    "                \"valid\": DataLoader(v1, batch_size=32, num_workers=1), \n",
    "            }\n",
    "        elif stage == \"stage_2\":\n",
    "            return {\n",
    "                \"train_2\": DataLoader(t2, batch_size=32, num_workers=1), \n",
    "                \"valid\": DataLoader(v1, batch_size=32, num_workers=1), \n",
    "            }\n",
    "        else:\n",
    "            raise NotImplemented()\n",
    "\n",
    "    def get_model(self, stage: str):\n",
    "        return nn.Sequential(\n",
    "            nn.Linear(2, 16), nn.ReLU(), \n",
    "            nn.Linear(16, 16), nn.ReLU(), \n",
    "            nn.Linear(16, 1)\n",
    "        )\n",
    "\n",
    "    def get_criterion(self, stage: str):\n",
    "        return nn.BCEWithLogitsLoss()\n",
    "\n",
    "    def get_optimizer(self, stage: str, model):\n",
    "        if stage == \"stage_1\":\n",
    "            return torch.optim.Adam(model.parameters(), lr=0.02)\n",
    "        elif stage == \"stage_2\":\n",
    "            return torch.optim.SGD(model.parameters(), lr=0.01)\n",
    "        else:\n",
    "            raise NotImplemented()\n",
    "\n",
    "    def get_scheduler(self, stage: str, optimizer):\n",
    "        if stage == \"stage_1\":\n",
    "            return torch.optim.lr_scheduler.MultiStepLR(optimizer, [3, 8])\n",
    "        elif stage == \"stage_2\":\n",
    "            return torch.optim.lr_scheduler.MultiStepLR(optimizer, [3, 6])\n",
    "        else:\n",
    "            raise NotImplemented()\n",
    "        \n",
    "\n",
    "    def get_callbacks(self, stage: str) -> Dict[str, dl.Callback]:\n",
    "        if stage == \"stage_1\":\n",
    "            \n",
    "            return {\n",
    "                \"criterion\": dl.CriterionCallback(\n",
    "                    metric_key=\"loss\", \n",
    "                    outputs_key=\"logits\", \n",
    "                    targets_key=\"targets\"\n",
    "                ), \n",
    "#                 \"accuracy\": dl.MetricCallback(\n",
    "#                     metric=metrics.AccuracyMetric(), compute_on_batch=True,\n",
    "#                     outputs_key=\"logits\", targets_key=\"targets\", \n",
    "#                 ),\n",
    "#                 \"auc\": dl.MetricCallback(\n",
    "#                     metric=metrics.AUCMetric(), compute_on_batch=False,\n",
    "#                     outputs_key=\"scores\", targets_key=\"targets\", \n",
    "#                 ), \n",
    "                \"optimizer\": dl.OptimizerCallback(metric_key=\"loss\"), \n",
    "                \"scheduler\": dl.SchedulerCallback(\n",
    "                    loader_key=\"valid\", metric_key=\"loss\"\n",
    "                ),\n",
    "                \"checkpoint\": dl.CheckpointCallback(\n",
    "                    loader_key=\"valid\", metric_key=\"loss\", \n",
    "                    minimize=True, save_n_best=3\n",
    "                ),\n",
    "            }\n",
    "        elif stage == \"stage_2\":\n",
    "            return {\n",
    "                \"criterion\": dl.CriterionCallback(\n",
    "                    metric_key=\"loss\", \n",
    "                    outputs_key=\"logits\", \n",
    "                    targets_key=\"targets\"\n",
    "                ), \n",
    "                \"auc\": dl.MetricCallback(\n",
    "                    metric=metrics.AUCMetric(), compute_on_batch=False,\n",
    "                    outputs_key=\"scores\", targets_key=\"targets\", \n",
    "                ), \n",
    "                \"optimizer\": dl.OptimizerCallback(metric_key=\"loss\"), \n",
    "                \"scheduler\": dl.SchedulerCallback(\n",
    "                    loader_key=\"valid\", metric_key=\"loss\"\n",
    "                ),\n",
    "                \"checkpoint_auc\": dl.CheckpointCallback(\n",
    "                    loader_key=\"valid\", metric_key=\"auc\", \n",
    "                    minimize=False, save_n_best=3\n",
    "                ),\n",
    "            }\n",
    "        else:\n",
    "            raise NotImplemented()\n",
    "        \n",
    "\n",
    "    def get_engine(self):\n",
    "        return dl.Engine()\n",
    "\n",
    "    def get_trial(self):\n",
    "        return None\n",
    "\n",
    "    def get_loggers(self):\n",
    "        return {\n",
    "            \"console\": dl.ConsoleLogger(),\n",
    "            \"csv\": dl.LogdirLogger(logdir=\"./logdir5\"),\n",
    "        }\n",
    "\n",
    "    \n",
    "class CustomRunner(dl.IStageBasedRunner):\n",
    "    def handle_batch(self, batch):\n",
    "        x, y = batch\n",
    "        y_hat = self.model(x)\n",
    "        \n",
    "        self.batch = {\n",
    "            \"features\": x,\n",
    "            \"targets\": y,\n",
    "            \"logits\": y_hat.view(-1),\n",
    "            \"scores\": torch.sigmoid(y_hat.view(-1)),\n",
    "        }\n",
    "    \n",
    "experiment = CustomExperiment()\n",
    "CustomRunner().run(experiment)"
   ]
  },
  {
   "cell_type": "markdown",
   "metadata": {},
   "source": [
    "---"
   ]
  },
  {
   "cell_type": "markdown",
   "metadata": {},
   "source": [
    "🎉 You have passed ``Kittylyst`` tutorial! This is just a minimal educational demo, but I hope you found it interesting for your deep learning research code organisation.\n",
    "\n",
    "For more advanced and production-ready solution please follow our [Catalyst](https://github.com/catalyst-team/catalyst) repository.\n",
    "\n",
    "PS. If you are interested in deep learning you could also try out our [dl-course](https://github.com/catalyst-team/dl-course)."
   ]
  },
  {
   "cell_type": "code",
   "execution_count": null,
   "metadata": {},
   "outputs": [],
   "source": []
  }
 ],
 "metadata": {
  "kernelspec": {
   "display_name": "Python [conda env:py37] *",
   "language": "python",
   "name": "conda-env-py37-py"
  },
  "language_info": {
   "codemirror_mode": {
    "name": "ipython",
    "version": 3
   },
   "file_extension": ".py",
   "mimetype": "text/x-python",
   "name": "python",
   "nbconvert_exporter": "python",
   "pygments_lexer": "ipython3",
   "version": "3.7.7"
  }
 },
 "nbformat": 4,
 "nbformat_minor": 2
}
